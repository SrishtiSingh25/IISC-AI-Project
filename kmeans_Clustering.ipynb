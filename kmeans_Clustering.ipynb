{
  "cells": [
    {
      "cell_type": "markdown",
      "metadata": {
        "id": "view-in-github",
        "colab_type": "text"
      },
      "source": [
        "<a href=\"https://colab.research.google.com/github/SrishtiSingh25/IISC-AI-Project/blob/main/kmeans_Clustering.ipynb\" target=\"_parent\"><img src=\"https://colab.research.google.com/assets/colab-badge.svg\" alt=\"Open In Colab\"/></a>"
      ]
    },
    {
      "cell_type": "code",
      "source": [
        "from skimage import io\n",
        "from sklearn.cluster import KMeans\n",
        "import numpy as np\n",
        "\n",
        "#Read the image\n",
        "image = io.imread('/content/ja.jpg') \n",
        "io.imshow(image)\n",
        "io.show()\n",
        "\n",
        "#Dimension of the original image\n",
        "rows = image.shape[0]\n",
        "cols = image.shape[1]\n",
        "\n",
        "#Flatten the image\n",
        "image = image.reshape(rows*cols,3)\n",
        "\n",
        "#Implement k-means clustering to form k clusters\n",
        "kmeans = KMeans(n_clusters=64)\n",
        "kmeans.fit(image)\n",
        "\n",
        "#Replace each pixel value with its nearby centroid\n",
        "compressed_image = kmeans.cluster_centers_[kmeans.labels_]\n",
        "compressed_image = np.clip(compressed_image.astype('uint8'), 0, 255)\n",
        "\n",
        "#Reshape the image to original dimension\n",
        "compressed_image = compressed_image.reshape(rows*cols, 3)\n",
        "\n",
        "#Save and display output image\n",
        "io.imsave('compressed_image_64.png', compressed_image)\n",
        "io.imshow(compressed_image)\n",
        "io.show()"
      ],
      "metadata": {
        "id": "0uxRsxV0sN99"
      },
      "execution_count": null,
      "outputs": []
    }
  ],
  "metadata": {
    "colab": {
      "provenance": [],
      "authorship_tag": "ABX9TyMpjXHcKsv97rXg2y8hb6z7",
      "include_colab_link": true
    },
    "kernelspec": {
      "display_name": "Python 3",
      "name": "python3"
    },
    "language_info": {
      "name": "python"
    }
  },
  "nbformat": 4,
  "nbformat_minor": 0
}